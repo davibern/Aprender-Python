{
 "cells": [
  {
   "cell_type": "markdown",
   "metadata": {},
   "source": [
    "# Ejercicios de entradas y salidas"
   ]
  },
  {
   "cell_type": "markdown",
   "metadata": {},
   "source": [
    "## Solicita al usuario su edad. "
   ]
  },
  {
   "cell_type": "code",
   "execution_count": 1,
   "metadata": {},
   "outputs": [
    {
     "name": "stdout",
     "output_type": "stream",
     "text": [
      "Tu edad es 22 años\n"
     ]
    }
   ],
   "source": [
    "def solicitar_edad():\n",
    "    edad = 0\n",
    "    mensaje = \"\"\n",
    "\n",
    "    try:\n",
    "        edad = int(input(\"¿Qué edad tienes?: \"))\n",
    "    except ValueError:\n",
    "        mensaje = \"Error: el dato introducido no es un número válido.\"\n",
    "    finally:\n",
    "        mensaje = f'Tu edad es {edad} años'\n",
    "\n",
    "    if edad < 0:\n",
    "        mensaje = \"La edad debe ser mayor o igual a cero.\"\n",
    "        return solicitar_edad()\n",
    "\n",
    "    print(mensaje)\n",
    "\n",
    "\n",
    "solicitar_edad()"
   ]
  },
  {
   "cell_type": "markdown",
   "metadata": {},
   "source": [
    "## Solicita al usuario su año de nacimiento y le calculas la edad mostrándolo por pantalla"
   ]
  },
  {
   "cell_type": "code",
   "execution_count": 5,
   "metadata": {},
   "outputs": [
    {
     "name": "stdout",
     "output_type": "stream",
     "text": [
      "El año de nacimiento fue en 44\n"
     ]
    }
   ],
   "source": [
    "from datetime import datetime\n",
    "\n",
    "\n",
    "def calcular_nacimiento():\n",
    "    edad = 0\n",
    "    anio = 0\n",
    "    mensaje = \"\"\n",
    "\n",
    "    try:\n",
    "        edad = int(input(\"¿Qué edad tienes para calcular tu edad?: \"))\n",
    "        now = datetime.now()\n",
    "        anio = now.year - edad\n",
    "    except ValueError:\n",
    "        mensaje = \"Error: el dato introducido no es nu número válido.\"\n",
    "    finally:\n",
    "        mensaje = f'El año de nacimiento fue en {anio}'\n",
    "\n",
    "    if edad < 0:\n",
    "        mensaje = \"La edad debe ser mayor o igual a cero.\"\n",
    "        return calcular_nacimiento()\n",
    "\n",
    "    print(mensaje)\n",
    "\n",
    "\n",
    "calcular_nacimiento()"
   ]
  },
  {
   "cell_type": "markdown",
   "metadata": {},
   "source": [
    "## Calcular el factorial"
   ]
  },
  {
   "cell_type": "code",
   "execution_count": 6,
   "metadata": {},
   "outputs": [
    {
     "name": "stdout",
     "output_type": "stream",
     "text": [
      "El factorial de 44 es 2658271574788448768043625811014615890319638528000000000\n"
     ]
    }
   ],
   "source": [
    "import math\n",
    "\n",
    "\n",
    "def calcular_factorial():\n",
    "    num = 0\n",
    "    mensaje = \"\"\n",
    "\n",
    "    try:\n",
    "        num = int(input(\"Ingrese un número: \"))\n",
    "        mensaje = f'El factorial de {num} es {math.factorial(num)}'\n",
    "    except ValueError:\n",
    "        mensaje = \"Error: el dato introducido no es un número\"\n",
    "\n",
    "    print(mensaje)\n",
    "\n",
    "\n",
    "calcular_factorial()"
   ]
  }
 ],
 "metadata": {
  "kernelspec": {
   "display_name": "Python 3",
   "language": "python",
   "name": "python3"
  },
  "language_info": {
   "codemirror_mode": {
    "name": "ipython",
    "version": 3
   },
   "file_extension": ".py",
   "mimetype": "text/x-python",
   "name": "python",
   "nbconvert_exporter": "python",
   "pygments_lexer": "ipython3",
   "version": "3.11.3"
  }
 },
 "nbformat": 4,
 "nbformat_minor": 2
}
